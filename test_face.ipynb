{
 "cells": [
  {
   "cell_type": "code",
   "execution_count": 4,
   "metadata": {},
   "outputs": [
    {
     "name": "stdout",
     "output_type": "stream",
     "text": [
      "268\n",
      "268\n"
     ]
    }
   ],
   "source": [
    "# def load():\n",
    "    \n",
    "import face_recognition\n",
    "import os\n",
    "import cv2\n",
    "\n",
    "import mtcnn \n",
    "from mtcnn.mtcnn import MTCNN\n",
    "\n",
    "KNOWN_FACES_DIR = \"F:\\\\OPENCV\\\\data\\\\mini\"  \n",
    "UNKNOWN_FACES_DIR = 'F:\\\\OPENCV\\\\mix'\n",
    "TOLERANCE = 0.7\n",
    "FRAME_THICKNESS = 4\n",
    "FONT_THICKNESS = 5\n",
    "MODEL= \"cnn\"\n",
    "\n",
    "from numpy import loadtxt\n",
    "from numpy import asarray\n",
    "known_faces = loadtxt('known_faces_data.csv', delimiter=',')\n",
    "known_names = loadtxt('known_names_data.csv', dtype='str' ,delimiter=',')\n",
    "\n",
    "\n",
    "print(len(known_names))\n",
    "print(len(known_faces))\n",
    "known_names=list(known_names)\n",
    "known_faces=list(known_faces)\n",
    "#     print(known_names)\n",
    "\n",
    "#     return "
   ]
  },
  {
   "cell_type": "code",
   "execution_count": 20,
   "metadata": {},
   "outputs": [
    {
     "ename": "SyntaxError",
     "evalue": "invalid syntax (<ipython-input-20-fdbcc35580a8>, line 12)",
     "output_type": "error",
     "traceback": [
      "\u001b[1;36m  File \u001b[1;32m\"<ipython-input-20-fdbcc35580a8>\"\u001b[1;36m, line \u001b[1;32m12\u001b[0m\n\u001b[1;33m    while()\u001b[0m\n\u001b[1;37m           ^\u001b[0m\n\u001b[1;31mSyntaxError\u001b[0m\u001b[1;31m:\u001b[0m invalid syntax\n"
     ]
    }
   ],
   "source": [
    "def remove(score):\n",
    "    \n",
    "    match =max(score,key=score.count)\n",
    "    \n",
    "    nscore=score(filter((match).__ne__, match))\n",
    "    \n",
    "    nmatch=max(nscore,key=nscore.count)\n",
    "    \n",
    "    \n",
    "    \n",
    "     \n",
    "    \n",
    "    return\n",
    "\n",
    "while()"
   ]
  },
  {
   "cell_type": "code",
   "execution_count": 12,
   "metadata": {
    "scrolled": true
   },
   "outputs": [
    {
     "name": "stdout",
     "output_type": "stream",
     "text": [
      "Processing unknown faces...\n",
      "Filename aji.jpg[(9, 181, 179, 11)]\n",
      ", found 1 face(s)\n",
      "Counter({'suyash': 14, 'manek': 13, 'niranjan': 13, 'ajinkya': 12, 'vedant': 10, 'sakash': 8, 'ani': 6, 'ajay': 5, 'nik': 4, 'simon_pegg': 3, 'will_smith': 3, 'elton_john': 2, 'dwayne_johnson': 1, 'keanu_reeves': 1, 'mindy_kaling': 1})\n",
      "suyash\n",
      "(11, 9)\n",
      "(181, 179)\n"
     ]
    }
   ],
   "source": [
    "# def recognize(UNKNOWN_FACES_DIR,KNOWN_FACES_DIR,known_names,known_faces):\n",
    "  \n",
    "from collections import Counter\n",
    "\n",
    "detector = MTCNN()\n",
    "\n",
    "\n",
    "print('Processing unknown faces...')\n",
    "\n",
    "for filename in os.listdir(UNKNOWN_FACES_DIR):\n",
    "\n",
    "    filename='aji.jpg'\n",
    "\n",
    "    print(f'Filename {filename}', end='')\n",
    "\n",
    "\n",
    "#     orig_image = face_recognition.load_image_file(f'{UNKNOWN_FACES_DIR}/{filename}')\n",
    "\n",
    "    ori_image=cv2.imread(f'{UNKNOWN_FACES_DIR}/{filename}')\n",
    "\n",
    "#     cv2.imshow('img',ori_image)\n",
    "#     cv2.waitKey(0)\n",
    "#     cv2.destroyAllWindows()\n",
    "    \n",
    "\n",
    "    faces = detector.detect_faces(ori_image)\n",
    "    \n",
    "#     print(faces)\n",
    "\n",
    "    for face in faces:\n",
    "\n",
    "#         print(face['box'])\n",
    "        x,y,w,h =  face['box']\n",
    "\n",
    "        extracted_faces=ori_image[y-10:y+h+10,x-10:x+w+10]\n",
    "\n",
    "        image=cv2.resize(extracted_faces,(200,200))\n",
    "        \n",
    "        \n",
    "        cv2.imshow('img',image)\n",
    "        cv2.waitKey(0)\n",
    "        cv2.destroyAllWindows()\n",
    "\n",
    "\n",
    "\n",
    "\n",
    "\n",
    "        locations = face_recognition.face_locations(image, model=MODEL)\n",
    "        print(locations)\n",
    "\n",
    "\n",
    "        encodings = face_recognition.face_encodings(image, locations)\n",
    "\n",
    "\n",
    "        image = cv2.cvtColor(image, cv2.COLOR_RGB2BGR)\n",
    "\n",
    "\n",
    "        print(f', found {len(encodings)} face(s)')\n",
    "        for face_encoding, face_location in zip(encodings, locations):\n",
    "\n",
    "\n",
    "            results = face_recognition.compare_faces(known_faces, face_encoding, TOLERANCE)\n",
    "    #         print(results)\n",
    "\n",
    "            score=[]\n",
    "            match = None\n",
    "            if True in results:\n",
    "\n",
    "                for i, j in enumerate(results):\n",
    "                    if j == True:\n",
    "                        name=known_names[i]\n",
    "                        score.append(name)\n",
    "\n",
    "#                 print(score)\n",
    "\n",
    "\n",
    "                match =max(score,key=score.count)\n",
    "                \n",
    "                print(Counter(score))\n",
    "                \n",
    "\n",
    "                print(match)\n",
    "#                 print(f' - {match} from {results}')\n",
    "\n",
    "                x1=face_location[3]\n",
    "                y1=face_location[0]\n",
    "                x2=face_location[1]\n",
    "                y2=face_location[2]\n",
    "                temp=image[y1:y2,x1:x2,]\n",
    "\n",
    "\n",
    "#                     cv2.imshow('sd',temp)\n",
    "#                     cv2.waitKey(0)\n",
    "#                     cv2.destroyAllWindows() \n",
    "\n",
    "\n",
    "                top_left = (face_location[3], face_location[0])\n",
    "                print(top_left)\n",
    "\n",
    "                bottom_right = (face_location[1], face_location[2])\n",
    "                print(bottom_right)\n",
    "\n",
    "                color = [0,255,0]\n",
    "\n",
    "#                 cv2.rectangle(ori_image, top_left, bottom_right, color, FRAME_THICKNESS)\n",
    "\n",
    "                top_left = (face_location[3], face_location[2])\n",
    "                bottom_right = (face_location[1], face_location[2] + 22)\n",
    "\n",
    "\n",
    "#                 cv2.rectangle(image, top_left, bottom_right, color, cv2.FILLED)\n",
    "\n",
    "             \n",
    "#                 cv2.putText(ori_image, match, (face_location[3] + 10, face_location[2] + 15), cv2.FONT_HERSHEY_SIMPLEX, 0.5, (200, 200, 200), FONT_THICKNESS)\n",
    "# #     \n",
    "\n",
    "\n",
    "        \n",
    "#                 cv2.imshow('filename', image)\n",
    "#                 cv2.waitKey(0)\n",
    "#                 cv2.destroyAllWindows()\n",
    "\n",
    "                cv2.rectangle(ori_image,(x,y),(x+w,y+h),(0,255,0),FRAME_THICKNESS)\n",
    "                cv2.putText(ori_image,match,(x+w+5,y+h+5),cv2.FONT_HERSHEY_SIMPLEX, 1 , (0, 255, 0), FONT_THICKNESS)\n",
    "#                 cv2.imshow('full_image', ori_image)\n",
    "#                 cv2.waitKey(0)\n",
    "#                 cv2.destroyAllWindows()\n",
    "\n",
    "    sizee=cv2.resize(ori_image,(800,800))\n",
    "    cv2.imshow('full_image', sizee)\n",
    "    \n",
    "    cv2.waitKey(0)\n",
    "    cv2.destroyAllWindows()\n",
    "\n",
    "    break\n"
   ]
  },
  {
   "cell_type": "code",
   "execution_count": 26,
   "metadata": {},
   "outputs": [
    {
     "data": {
      "text/plain": [
       "[1, 2, 2, 2, 2, 4]"
      ]
     },
     "execution_count": 26,
     "metadata": {},
     "output_type": "execute_result"
    }
   ],
   "source": [
    ">>> x = [1,2,3,2,2,2,3,4]\n",
    ">>> list(filter((3).__ne__, x))"
   ]
  },
  {
   "cell_type": "code",
   "execution_count": null,
   "metadata": {},
   "outputs": [],
   "source": []
  }
 ],
 "metadata": {
  "kernelspec": {
   "display_name": "Python 3",
   "language": "python",
   "name": "python3"
  },
  "language_info": {
   "codemirror_mode": {
    "name": "ipython",
    "version": 3
   },
   "file_extension": ".py",
   "mimetype": "text/x-python",
   "name": "python",
   "nbconvert_exporter": "python",
   "pygments_lexer": "ipython3",
   "version": "3.7.6"
  }
 },
 "nbformat": 4,
 "nbformat_minor": 4
}
